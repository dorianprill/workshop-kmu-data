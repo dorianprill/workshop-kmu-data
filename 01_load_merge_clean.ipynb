{
 "cells": [
  {
   "attachments": {},
   "cell_type": "markdown",
   "id": "b9b255d3-9c33-45fa-9abb-ba4c940287be",
   "metadata": {},
   "source": [
    "# Teil 1: Daten laden, Zusammenführen und Bereinigen\n",
    "## Mit Polars DataFrames"
   ]
  },
  {
   "attachments": {},
   "cell_type": "markdown",
   "id": "3119a790",
   "metadata": {},
   "source": [
    "In diesem Notebook werden die Daten geladen, bereinigt und visualisiert. Dabei werden die Polars und Seaborn Bibliotheken verwendet.\n",
    "\n",
    "Polars bietet uns Datentypen um mit tabellarischen Daten zu arbeiten (DataFrame und Series). Außerdem werden eine Menge von Methoden bereitgestellt um Daten zu bereinigen und zu transformieren. Polars ist eine sehr performante Bibliothek, die auf Apache Arrow basiert und somit sehr gut mit dem Apache Big Data Ökosystem kompatibel ist.  \n",
    "Sie ist dazu sehr performant und kann, im Gegenzug zur Pandas Bibliothek, sehr große Datenmengen verarbeiten (Out-of-Memory Query Engine).\n",
    "\n",
    "Numpy und Scipy sind Mathematik bzw. Wissenschaftliche quasi-Standard Bibliotheken und bieten uns eine Vielfalt an bekannten Funktionen und Methoden.\n",
    "\n",
    "Damit haben wir bereits alles, was wir benötigen, um eine erste Analyse der Daten durchzuführen und mit diesen Ergebnissen später ein Modell zu entwickeln, um eine Vorhersage zu treffen."
   ]
  },
  {
   "cell_type": "code",
   "execution_count": 1503,
   "id": "6df90f8c-f216-412f-be7c-9d7a505e4bcb",
   "metadata": {
    "tags": []
   },
   "outputs": [],
   "source": [
    "import numpy as np\n",
    "import scipy as sp\n",
    "import polars as pl"
   ]
  },
  {
   "attachments": {},
   "cell_type": "markdown",
   "id": "372f4dd2",
   "metadata": {},
   "source": [
    "Zur Veranschaulichung des Analytics/Modeling Prozesses verwenden wir einen kleinen Datensatz der einfach verständlich ist. In der Praxis hat man es oft mit komplexeren Daten zu tun, die eine Menge an Vorverarbeitung und Reduktion benötigen, um sie für das Modellieren zu nutzen.  \n",
    "Öffentlich verfügbare, reale Datensätze sind leider oft anonymisiert und daher nicht leicht verständlich."
   ]
  },
  {
   "attachments": {},
   "cell_type": "markdown",
   "id": "5d6ee739",
   "metadata": {},
   "source": [
    "Daten können in unterschiedlichen Formaten vorliegen. Da jedes Unternehmen eine eigene Dateninfrastruktur besitzt, verwenden wir für diesen Workshop Dateien als universelle und menschenlesbare Datenquelle.  \n",
    "\n",
    "Polars macht es einfach, direkt aus solchen Dateiformaten in einen DataFrame einzulesen.  \n",
    "\n",
    "An dieser Stelle machen wir uns erst einmal mit dem Datensatz vertraut.  \n",
    "Die Beschreibung zu diesem synthetischen Datensatz finden Sie unter: https://www.kaggle.com/datasets/lucasokwudishu/gta-v-vehicle-dataset\n",
    "\n",
    "Warum einen Datensatz aus einem Spiel verwenden?  \n",
    "Spiele sind eine gute Quelle fuer Daten, da sie eine komplexe Welt simulieren und frei zugänglich sind (Im Gegensatz zu industriellen Daten, die oft anonymisiert sind). Außerdem bestehen sie oft aus stark heterogenen Datentypen, was uns eine gute Gelegenheit bietet, Datenbereinigung und Transformation zu üben.\n",
    "\n",
    "Hinzu kommt, dass jede/r sich etwas unter den Daten vorstellen kann, was es einfacher macht, die Ergebnisse gemeinsam zu interpretieren.\n"
   ]
  },
  {
   "attachments": {},
   "cell_type": "markdown",
   "id": "d33ba820",
   "metadata": {},
   "source": [
    "### Einlesen und Merging der Daten\n",
    "Wie wir uns eben in der Datenbeschreibung angesehen haben, besteht der Datensatz aus mehreren verschiedenen Dateien. \n",
    "Diese müssen wir nun zusammenführen, um einen kompletten Datensatz zu erhalten. Danach werden wir die Daten bereinigen bevor es mit Notebook `02_transform_extract.ipynb` weitergeht."
   ]
  },
  {
   "cell_type": "code",
   "execution_count": 1504,
   "id": "2121052f-9831-4036-b334-b02918c91f88",
   "metadata": {},
   "outputs": [],
   "source": [
    "# Öffnen sie nebenbei die polars doku https://pola-rs.github.io/polars-book/user-guide/index.html\n",
    "\n",
    "# try/except ist in einem notebook etwas überflüssig aber es ist eine gute Übung \n",
    "# und Vorlage für die spätere Weiterverarbeitung in einer komplexeren Applikation\n",
    "\n",
    "try:\n",
    "    df = (pl.read_csv(\"resources/data/gta_v/gta_data_batch_1.csv\", columns=range(1,35), sep=',')\n",
    "        .extend(pl.read_csv(\"resources/data/gta_v/gta_data_batch_2.csv\", columns=range(1,35), sep=','))\n",
    "        .extend(pl.read_csv(\"resources/data/gta_v/gta_data_batch_3.csv\", columns=range(1,35), sep=','))\n",
    "    )\n",
    "except (IOError, OSError) as e:\n",
    "    print(f'Failed to read files {e}')\n",
    "except OtherError as e:\n",
    "    print(f'Other error {e}')\n",
    "\n",
    "\n",
    "# check if there are duplicates\n",
    "if df.shape != df.unique().shape:\n",
    "    print(f'Warning: {df} has duplicates -> drop them manually')\n"
   ]
  },
  {
   "attachments": {},
   "cell_type": "markdown",
   "id": "f2faf1e9",
   "metadata": {},
   "source": [
    "Ein `print()` des DataFrame liefert einen gekürzten Auszug der Header und des Inhalts und die Dimensionen der Tabelle (shape: Zeilen, Spalten).  \n",
    "Da wir die harte Arbeit aber dem Computer überlassen wollen, sollte dies nur als Gedankenstütze dienen.  \n",
    "Weitere Methoden sind `.head(n)` und `.tail(n)` um die ersten bzw. letzten n Zeilen des DataFrame anzuzeigen.  \n",
    "\n",
    "Mit der Methode `.describe()` kann eine statistische Übersicht über die Daten gegeben werden."
   ]
  },
  {
   "cell_type": "code",
   "execution_count": 1505,
   "id": "3fcd0c4f",
   "metadata": {},
   "outputs": [
    {
     "name": "stdout",
     "output_type": "stream",
     "text": [
      "shape: (567, 34)\n",
      "┌───────────┬────────────┬────────────┬───────────┬─────┬─────────┬──────────┬─────────┬───────────┐\n",
      "│ title     ┆ vehicle_cl ┆ manufactur ┆ features  ┆ ... ┆ braking ┆ handling ┆ overall ┆ vehicle_u │\n",
      "│ ---       ┆ ass        ┆ er         ┆ ---       ┆     ┆ ---     ┆ ---      ┆ ---     ┆ rl        │\n",
      "│ str       ┆ ---        ┆ ---        ┆ str       ┆     ┆ str     ┆ str      ┆ str     ┆ ---       │\n",
      "│           ┆ str        ┆ str        ┆           ┆     ┆         ┆          ┆         ┆ str       │\n",
      "╞═══════════╪════════════╪════════════╪═══════════╪═════╪═════════╪══════════╪═════════╪═══════════╡\n",
      "│ GTA 5:    ┆ Planes     ┆ NA         ┆ Armored   ┆ ... ┆ Braking ┆ Handling ┆ Overall ┆ https://w │\n",
      "│ Volatol   ┆            ┆            ┆ Vehicle,  ┆     ┆ 32.50   ┆ 1.01     ┆ 34.54   ┆ ww.gtabas │\n",
      "│           ┆            ┆            ┆ Bombs     ┆     ┆         ┆          ┆         ┆ e.com//gr │\n",
      "│           ┆            ┆            ┆ Mod,      ┆     ┆         ┆          ┆         ┆ and-t...  │\n",
      "│           ┆            ┆            ┆ Bull...   ┆     ┆         ┆          ┆         ┆           │\n",
      "│ GTA 5:    ┆ Utility    ┆ Vapid      ┆ Has       ┆ ... ┆ Braking ┆ Handling ┆ Overall ┆ https://w │\n",
      "│ Sadler    ┆            ┆            ┆ Variants, ┆     ┆ 20.00   ┆ 62.12    ┆ 50.47   ┆ ww.gtabas │\n",
      "│           ┆            ┆            ┆ Snow      ┆     ┆         ┆          ┆         ┆ e.com//gr │\n",
      "│           ┆            ┆            ┆ Vehicle - ┆     ┆         ┆          ┆         ┆ and-t...  │\n",
      "│           ┆            ┆            ┆ Nor...    ┆     ┆         ┆          ┆         ┆           │\n",
      "│ GTA 5:    ┆ Commercial ┆ Benefactor ┆ Armored   ┆ ... ┆ Braking ┆ Handling ┆ Overall ┆ https://w │\n",
      "│ Benefacto ┆            ┆            ┆ Vehicle,  ┆     ┆ 8.33    ┆ 59.09    ┆ 42.95   ┆ ww.gtabas │\n",
      "│ r Terrorb ┆            ┆            ┆ Bulletpro ┆     ┆         ┆          ┆         ┆ e.com//gr │\n",
      "│ yte       ┆            ┆            ┆ of - F... ┆     ┆         ┆          ┆         ┆ and-t...  │\n",
      "│ GTA 5:    ┆ Planes     ┆ Mammoth    ┆ Armored   ┆ ... ┆ Braking ┆ Handling ┆ Overall ┆ https://w │\n",
      "│ Mammoth   ┆            ┆            ┆ Vehicle,  ┆     ┆ 18.99   ┆ 25.95    ┆ 36.50   ┆ ww.gtabas │\n",
      "│ Dodo      ┆            ┆            ┆ Bulletpro ┆     ┆         ┆          ┆         ┆ e.com//gr │\n",
      "│           ┆            ┆            ┆ of - R... ┆     ┆         ┆          ┆         ┆ and-t...  │\n",
      "│ ...       ┆ ...        ┆ ...        ┆ ...       ┆ ... ┆ ...     ┆ ...      ┆ ...     ┆ ...       │\n",
      "│ GTA 5:    ┆ Super      ┆ Overflod   ┆ Bulletpro ┆ ... ┆ Braking ┆ Handling ┆ Overall ┆ https://w │\n",
      "│ Overflod  ┆            ┆            ┆ of - Rear ┆     ┆ 33.33   ┆ 100.00   ┆ 76.72   ┆ ww.gtabas │\n",
      "│ Tyrant    ┆            ┆            ┆           ┆     ┆         ┆          ┆         ┆ e.com//gr │\n",
      "│           ┆            ┆            ┆           ┆     ┆         ┆          ┆         ┆ and-t...  │\n",
      "│ GTA 5:    ┆ Sports     ┆ Grotti     ┆ Convertib ┆ ... ┆ Braking ┆ Handling ┆ Overall ┆ https://w │\n",
      "│ Grotti    ┆            ┆            ┆ le -      ┆     ┆ 26.67   ┆ 72.12    ┆ 67.77   ┆ ww.gtabas │\n",
      "│ Carbonizz ┆            ┆            ┆ Hard-top, ┆     ┆         ┆          ┆         ┆ e.com//gr │\n",
      "│ are       ┆            ┆            ┆ Mystery   ┆     ┆         ┆          ┆         ┆ and-t...  │\n",
      "│           ┆            ┆            ┆ ...       ┆     ┆         ┆          ┆         ┆           │\n",
      "│ GTA 5:    ┆ Super      ┆ Cheval     ┆ Bulletpro ┆ ... ┆ Braking ┆ Handling ┆ Overall ┆ https://w │\n",
      "│ Cheval    ┆            ┆            ┆ of - Rear ┆     ┆ 33.33   ┆ 100.00   ┆ 78.48   ┆ ww.gtabas │\n",
      "│ Taipan    ┆            ┆            ┆           ┆     ┆         ┆          ┆         ┆ e.com//gr │\n",
      "│           ┆            ┆            ┆           ┆     ┆         ┆          ┆         ┆ and-t...  │\n",
      "│ GTA 5:    ┆ Off-Road   ┆ Vapid      ┆ Has       ┆ ... ┆ Braking ┆ Handling ┆ Overall ┆ https://w │\n",
      "│ Vapid     ┆            ┆            ┆ Liveries  ┆     ┆ 10.00   ┆ 62.12    ┆ 51.76   ┆ ww.gtabas │\n",
      "│ Riata     ┆            ┆            ┆           ┆     ┆         ┆          ┆         ┆ e.com//gr │\n",
      "│           ┆            ┆            ┆           ┆     ┆         ┆          ┆         ┆ and-t...  │\n",
      "└───────────┴────────────┴────────────┴───────────┴─────┴─────────┴──────────┴─────────┴───────────┘\n"
     ]
    }
   ],
   "source": [
    "print(df)"
   ]
  },
  {
   "attachments": {},
   "cell_type": "markdown",
   "id": "1822e067",
   "metadata": {},
   "source": [
    "Allerdings sind wir noch nicht fertig - Es fehlen noch die Daten der Upgrade-Kosten.  \n",
    "Diese sind in in zwei Batches inseparaten Dateien gespeichert. Sie enthalten ebenfalls eine Spalte mit der Fahrzeug URL, die wir nutzen können, um die Daten zu verknüpfen (mittels `join`)."
   ]
  },
  {
   "cell_type": "code",
   "execution_count": 1506,
   "id": "9751a281",
   "metadata": {},
   "outputs": [],
   "source": [
    "try:\n",
    "    dfcost = (pl.read_csv(\"resources/data/gta_v/gta_data_upgrade_cost_1.csv\", columns=range(1,3))\n",
    "        .extend(pl.read_csv(\"resources/data/gta_v/gta_data_upgrade_cost_2.csv\", columns=range(1,3)))\n",
    "    )\n",
    "except (IOError, OSError) as e:\n",
    "    print(f'Failed to read files {e}')\n",
    "except OtherError as e:\n",
    "    print(f'Other error {e}')\n",
    "\n",
    "\n",
    "if dfcost.shape != dfcost.unique().shape:\n",
    "    print(f'Warning: {dfcost} has duplicates -> drop them manually')"
   ]
  },
  {
   "cell_type": "code",
   "execution_count": 1507,
   "id": "27342bb0",
   "metadata": {},
   "outputs": [],
   "source": [
    "df = df.join(dfcost, on='vehicle_url', how='left')\n",
    "del dfcost"
   ]
  },
  {
   "attachments": {},
   "cell_type": "markdown",
   "id": "b0f4c204",
   "metadata": {},
   "source": [
    "Jetzt ist ein wichtiger Aspekt, ob invalide Datenpunkte vorhanden sind. Das können z.b. fehlende Werte sein (Sensorausfall), aber auch ungültige Werte, die nicht in den erwarteten Bereich fallen (Nicht abgefangene Eingaben). \n",
    "Typischerweise werden diese in Polars als `null` dargestellt (Pandas: `NA`) und machen den gesamten Datenpunkt unbrauchbar. Numerisch nicht verwendbare Werte wie `+/-inf` oder `nan` sind ebenfalls ein Problem (allerdings sind dies keine _fehlenden_ Werte).\n",
    "\n",
    "Oft wird man diese Werte einfach aus dem Datensatz entfernen, um das Ergebnis nicht zuverfälschen.\n",
    "Allerdings kann dies zu einem Verlust von Information führen, wenn die Anzahl der ungültigen Werte zu groß ist.\n",
    "Daher _kann_ es sinnvoll sein, diese Werte mit speziellen Werten zu ersetzen.\n",
    "Eine weitere Möglichkeit ist \"Clipping\" - also das Setzen von Grenzwerten, die außerhalb des erwarteten Bereichs liegen.\n",
    "\n",
    "In der Praxis ist dies nahezu immer erforderlich, da \"echte\" Daten häufig \"verunreinigt\" sind.\n",
    "\n",
    "Mit folgendem Code können wir die Anzahl der `null` Werte pro Spalte ausgeben lassen, sofern überhaupt welche existieren."
   ]
  },
  {
   "cell_type": "code",
   "execution_count": 1508,
   "id": "da3843b0",
   "metadata": {},
   "outputs": [
    {
     "name": "stdout",
     "output_type": "stream",
     "text": [
      "features                 47\n"
     ]
    }
   ],
   "source": [
    "for col in df.get_columns():\n",
    "    if col.is_null().sum() > 0:\n",
    "        print(f'{col.name : <24} {col.is_null().sum()}')"
   ]
  },
  {
   "attachments": {},
   "cell_type": "markdown",
   "id": "16f4b5e0",
   "metadata": {},
   "source": [
    "In diesem Beispiel sehen wir, dass nur die Spalte `features` null-Werte enthält. \n",
    "Allerdings müssen wir hier genau hinschauen, da die Spalte `features` selbst eine Liste von Text-Werten ist.\n",
    "> Achtung! `null` heißt hier also nur, dass keine besonderen features vorhanden sind - es wäre fatal diese Zeilen zu entfernen!  \n",
    "\n",
    "Sonst gibt es einen einfachen Weg, alle Zeilen mit mindestens einem `null`-Wert zu entfernen bzw. zu ersetzen: `.drop_nulls()` / `.fill_null()`.\n",
    "\n",
    "Hier hätten wir dann allerdings bei von 0 und 1 features die gleiche Länge an Listenelementen - also belassen wir es vorerst bei nulls\n",
    "und erstellen später eine neue Spalte in der wir die Anzahl der Features berechnen."
   ]
  },
  {
   "cell_type": "code",
   "execution_count": 1509,
   "id": "f72e93e9",
   "metadata": {},
   "outputs": [
    {
     "name": "stdout",
     "output_type": "stream",
     "text": [
      "shape: (7, 36)\n",
      "┌──────────┬─────────┬────────────┬────────────┬─────┬──────────┬─────────┬───────────┬────────────┐\n",
      "│ describe ┆ title   ┆ vehicle_cl ┆ manufactur ┆ ... ┆ handling ┆ overall ┆ vehicle_u ┆ upgrade_co │\n",
      "│ ---      ┆ ---     ┆ ass        ┆ er         ┆     ┆ ---      ┆ ---     ┆ rl        ┆ st         │\n",
      "│ str      ┆ str     ┆ ---        ┆ ---        ┆     ┆ str      ┆ str     ┆ ---       ┆ ---        │\n",
      "│          ┆         ┆ str        ┆ str        ┆     ┆          ┆         ┆ str       ┆ str        │\n",
      "╞══════════╪═════════╪════════════╪════════════╪═════╪══════════╪═════════╪═══════════╪════════════╡\n",
      "│ count    ┆ 567     ┆ 567        ┆ 567        ┆ ... ┆ 567      ┆ 567     ┆ 567       ┆ 567        │\n",
      "│ null_cou ┆ 0       ┆ 0          ┆ 0          ┆ ... ┆ 0        ┆ 0       ┆ 0         ┆ 0          │\n",
      "│ nt       ┆         ┆            ┆            ┆     ┆          ┆         ┆           ┆            │\n",
      "│ mean     ┆ null    ┆ null       ┆ null       ┆ ... ┆ null     ┆ null    ┆ null      ┆ null       │\n",
      "│ std      ┆ null    ┆ null       ┆ null       ┆ ... ┆ null     ┆ null    ┆ null      ┆ null       │\n",
      "│ min      ┆ GTA 5:  ┆ Commercial ┆ Albany     ┆ ... ┆ Handling ┆ Overall ┆ https://w ┆            │\n",
      "│          ┆ B-11    ┆            ┆            ┆     ┆ 0.00     ┆ 22.24   ┆ ww.gtabas ┆ Total Cost │\n",
      "│          ┆ Strikef ┆            ┆            ┆     ┆          ┆         ┆ e.com//gr ┆ to Fully   │\n",
      "│          ┆ orce    ┆            ┆            ┆     ┆          ┆         ┆ and-t...  ┆ Upgrade in │\n",
      "│          ┆         ┆            ┆            ┆     ┆          ┆         ┆           ┆ ...        │\n",
      "│ max      ┆ GTA 5:  ┆ Vans       ┆ Übermacht  ┆ ... ┆ Handling ┆ Overall ┆ https://w ┆ NA         │\n",
      "│          ┆ Übermac ┆            ┆            ┆     ┆ 98.95    ┆ 90.63   ┆ ww.gtabas ┆            │\n",
      "│          ┆ ht Zion ┆            ┆            ┆     ┆          ┆         ┆ e.com//gr ┆            │\n",
      "│          ┆ Classic ┆            ┆            ┆     ┆          ┆         ┆ and-t...  ┆            │\n",
      "│ median   ┆ null    ┆ null       ┆ null       ┆ ... ┆ null     ┆ null    ┆ null      ┆ null       │\n",
      "└──────────┴─────────┴────────────┴────────────┴─────┴──────────┴─────────┴───────────┴────────────┘\n"
     ]
    }
   ],
   "source": [
    "print(df.describe())"
   ]
  },
  {
   "attachments": {},
   "cell_type": "markdown",
   "id": "fb8ca5db",
   "metadata": {},
   "source": [
    "Dies ist eine gute Möglichkeit um einen ersten Eindruck über die Daten zu bekommen.\n",
    "Zum Beispiel kann das Verhältnis von `mean` zu `std` eine erste Einschätzung über die Präsenz von Außenseitern geben.\n",
    "Auch ist es wichtig, um die Skalen der Daten zu verstehen - dies wird beim Modellieren wichtig."
   ]
  },
  {
   "attachments": {},
   "cell_type": "markdown",
   "id": "d76389ae",
   "metadata": {},
   "source": [
    "### Datenbereinigung / Vorverarbeitung\n",
    "Nachdem die Daten nun korrekt zusammengeführt wurden, können wir uns um die Datenbereinigung kümmern. \n",
    "Konkret fallen bei unserem Datensatz folgende Dinge auf:\n",
    "\n",
    "1. In Spalte `title` ist ein redundantes \"GTA 5:\" enthalten\n",
    "2. In Textspalten sollte vor- und nachstehender Whitespace entfernt werden.\n",
    "3. Spalte `resale_price` enthält eigentlich 2 separate Werte, die auch in separaten Spalten stehen sollten z.B. `resale_price_base` und `resale_price_upgrade`\n",
    "4. `top_speed_real`, `top_speed_in_game` enthält mph und kmh. Da wir nicht im letzten Jahrhundert leben, können wir mph verwerfen.\n",
    "5. `speed`, `acceleration`, `braking`, `handling`, `overall`: Die numerischen Werte sollen extrahiert und die Spalten in den entsprechenden Datenzp umgewandelt werden\n",
    "6. `upgrade_cost`: Diese Spalten enthalten gemischten Text und numerische Werte. Wir müssen also die numerischen Werte extrahieren und die Spalten in numerische Werte umwandeln und entscheiden, was mit Sonderfällen wie \"N/A\" passiert."
   ]
  },
  {
   "cell_type": "code",
   "execution_count": 1510,
   "id": "7c128251",
   "metadata": {},
   "outputs": [
    {
     "name": "stdout",
     "output_type": "stream",
     "text": [
      "shape: (567, 36)\n",
      "┌───────┬────────────┬────────────┬──────┬─────┬────────────┬────────────┬────────────┬────────────┐\n",
      "│ title ┆ vehicle_cl ┆ manufactur ┆ feat ┆ ... ┆ resale_pri ┆ resale_pri ┆ top_speed_ ┆ top_speed_ │\n",
      "│ ---   ┆ ass        ┆ er         ┆ ures ┆     ┆ ce_base    ┆ ce_upgrade ┆ real_kmh   ┆ in_game_km │\n",
      "│ str   ┆ ---        ┆ ---        ┆ ---  ┆     ┆ ---        ┆ ---        ┆ ---        ┆ h          │\n",
      "│       ┆ str        ┆ str        ┆ str  ┆     ┆ f64        ┆ f64        ┆ f64        ┆ ---        │\n",
      "│       ┆            ┆            ┆      ┆     ┆            ┆            ┆            ┆ f64        │\n",
      "╞═══════╪════════════╪════════════╪══════╪═════╪════════════╪════════════╪════════════╪════════════╡\n",
      "│ Volat ┆ Planes     ┆ NA         ┆ Armo ┆ ... ┆ 2.2344e6   ┆ 2.421475e6 ┆ 266.35     ┆ 250.0      │\n",
      "│ ol    ┆            ┆            ┆ red  ┆     ┆            ┆            ┆            ┆            │\n",
      "│       ┆            ┆            ┆ Vehi ┆     ┆            ┆            ┆            ┆            │\n",
      "│       ┆            ┆            ┆ cle, ┆     ┆            ┆            ┆            ┆            │\n",
      "│       ┆            ┆            ┆ Bomb ┆     ┆            ┆            ┆            ┆            │\n",
      "│       ┆            ┆            ┆ s    ┆     ┆            ┆            ┆            ┆            │\n",
      "│       ┆            ┆            ┆ Mod, ┆     ┆            ┆            ┆            ┆            │\n",
      "│       ┆            ┆            ┆ Bull ┆     ┆            ┆            ┆            ┆            │\n",
      "│       ┆            ┆            ┆ ...  ┆     ┆            ┆            ┆            ┆            │\n",
      "│ Sadle ┆ Utility    ┆ Vapid      ┆ Has  ┆ ... ┆ 21000.0    ┆ 109375.0   ┆ 160.93     ┆ 130.0      │\n",
      "│ r     ┆            ┆            ┆ Vari ┆     ┆            ┆            ┆            ┆            │\n",
      "│       ┆            ┆            ┆ ants ┆     ┆            ┆            ┆            ┆            │\n",
      "│       ┆            ┆            ┆ ,    ┆     ┆            ┆            ┆            ┆            │\n",
      "│       ┆            ┆            ┆ Snow ┆     ┆            ┆            ┆            ┆            │\n",
      "│       ┆            ┆            ┆ Vehi ┆     ┆            ┆            ┆            ┆            │\n",
      "│       ┆            ┆            ┆ cle  ┆     ┆            ┆            ┆            ┆            │\n",
      "│       ┆            ┆            ┆ -    ┆     ┆            ┆            ┆            ┆            │\n",
      "│       ┆            ┆            ┆ Nor. ┆     ┆            ┆            ┆            ┆            │\n",
      "│       ┆            ┆            ┆ ..   ┆     ┆            ┆            ┆            ┆            │\n",
      "│ Benef ┆ Commercial ┆ Benefactor ┆ Armo ┆ ... ┆ 0.0        ┆ 0.0        ┆ 140.41     ┆ 120.0      │\n",
      "│ actor ┆            ┆            ┆ red  ┆     ┆            ┆            ┆            ┆            │\n",
      "│ Terro ┆            ┆            ┆ Vehi ┆     ┆            ┆            ┆            ┆            │\n",
      "│ rbyte ┆            ┆            ┆ cle, ┆     ┆            ┆            ┆            ┆            │\n",
      "│       ┆            ┆            ┆ Bull ┆     ┆            ┆            ┆            ┆            │\n",
      "│       ┆            ┆            ┆ etpr ┆     ┆            ┆            ┆            ┆            │\n",
      "│       ┆            ┆            ┆ oof  ┆     ┆            ┆            ┆            ┆            │\n",
      "│       ┆            ┆            ┆ -    ┆     ┆            ┆            ┆            ┆            │\n",
      "│       ┆            ┆            ┆ F... ┆     ┆            ┆            ┆            ┆            │\n",
      "│ Mammo ┆ Planes     ┆ Mammoth    ┆ Armo ┆ ... ┆ 0.0        ┆ 0.0        ┆ 216.05     ┆ 250.0      │\n",
      "│ th    ┆            ┆            ┆ red  ┆     ┆            ┆            ┆            ┆            │\n",
      "│ Dodo  ┆            ┆            ┆ Vehi ┆     ┆            ┆            ┆            ┆            │\n",
      "│       ┆            ┆            ┆ cle, ┆     ┆            ┆            ┆            ┆            │\n",
      "│       ┆            ┆            ┆ Bull ┆     ┆            ┆            ┆            ┆            │\n",
      "│       ┆            ┆            ┆ etpr ┆     ┆            ┆            ┆            ┆            │\n",
      "│       ┆            ┆            ┆ oof  ┆     ┆            ┆            ┆            ┆            │\n",
      "│       ┆            ┆            ┆ -    ┆     ┆            ┆            ┆            ┆            │\n",
      "│       ┆            ┆            ┆ R... ┆     ┆            ┆            ┆            ┆            │\n",
      "│ ...   ┆ ...        ┆ ...        ┆ ...  ┆ ... ┆ ...        ┆ ...        ┆ ...        ┆ ...        │\n",
      "│ Overf ┆ Super      ┆ Overflod   ┆ Bull ┆ ... ┆ 1.509e6    ┆ 1.65315e6  ┆ 204.39     ┆ 165.0      │\n",
      "│ lod   ┆            ┆            ┆ etpr ┆     ┆            ┆            ┆            ┆            │\n",
      "│ Tyran ┆            ┆            ┆ oof  ┆     ┆            ┆            ┆            ┆            │\n",
      "│ t     ┆            ┆            ┆ -    ┆     ┆            ┆            ┆            ┆            │\n",
      "│       ┆            ┆            ┆ Rear ┆     ┆            ┆            ┆            ┆            │\n",
      "│ Grott ┆ Sports     ┆ Grotti     ┆ Conv ┆ ... ┆ 117000.0   ┆ 255625.0   ┆ 192.32     ┆ 158.0      │\n",
      "│ i Car ┆            ┆            ┆ erti ┆     ┆            ┆            ┆            ┆            │\n",
      "│ boniz ┆            ┆            ┆ ble  ┆     ┆            ┆            ┆            ┆            │\n",
      "│ zare  ┆            ┆            ┆ -    ┆     ┆            ┆            ┆            ┆            │\n",
      "│       ┆            ┆            ┆ Hard ┆     ┆            ┆            ┆            ┆            │\n",
      "│       ┆            ┆            ┆ -top ┆     ┆            ┆            ┆            ┆            │\n",
      "│       ┆            ┆            ┆ ,    ┆     ┆            ┆            ┆            ┆            │\n",
      "│       ┆            ┆            ┆ Myst ┆     ┆            ┆            ┆            ┆            │\n",
      "│       ┆            ┆            ┆ ery  ┆     ┆            ┆            ┆            ┆            │\n",
      "│       ┆            ┆            ┆ ...  ┆     ┆            ┆            ┆            ┆            │\n",
      "│ Cheva ┆ Super      ┆ Cheval     ┆ Bull ┆ ... ┆ 1.188e6    ┆ 1.361025e6 ┆ 203.18     ┆ 170.25     │\n",
      "│ l Tai ┆            ┆            ┆ etpr ┆     ┆            ┆            ┆            ┆            │\n",
      "│ pan   ┆            ┆            ┆ oof  ┆     ┆            ┆            ┆            ┆            │\n",
      "│       ┆            ┆            ┆ -    ┆     ┆            ┆            ┆            ┆            │\n",
      "│       ┆            ┆            ┆ Rear ┆     ┆            ┆            ┆            ┆            │\n",
      "│ Vapid ┆ Off-Road   ┆ Vapid      ┆ Has  ┆ ... ┆ 228000.0   ┆ 404170.0   ┆ 167.37     ┆ 135.0      │\n",
      "│ Riata ┆            ┆            ┆ Live ┆     ┆            ┆            ┆            ┆            │\n",
      "│       ┆            ┆            ┆ ries ┆     ┆            ┆            ┆            ┆            │\n",
      "└───────┴────────────┴────────────┴──────┴─────┴────────────┴────────────┴────────────┴────────────┘\n"
     ]
    }
   ],
   "source": [
    "# 1. Strip \"GTA 5:\" from title\n",
    "# denken Sie an die Zuweisung an df, sonst ändert sich der DataFrame nicht\n",
    "df = df.with_columns(\n",
    "    pl.col('title').str.slice(7, None)\n",
    ")\n",
    "\n",
    "# 2. Strip leading/trailing whitespace from all text columns\n",
    "# https://pola-rs.github.io/polars-book/user-guide/howcani/selecting_data/selecting_data_expressions.html\n",
    "# filter        : select rows\n",
    "# select        : select columns only return those\n",
    "# with_columns  : operate on subset of columns but return all\n",
    "df = df.with_columns(\n",
    "    pl.col(pl.Utf8).str.strip(\" \\t\\n\\r\\b\\f\\v\\a\")\n",
    ")\n",
    "\n",
    "# 3. Split resale_price, then take care of NA/nulls (numeric conversion is handled below)\n",
    "df = df.with_columns(\n",
    "    pl.col('resale_price').str.replace('NA', '0(0'), # using this trick for consistent splitting\n",
    ")\n",
    "df = df.with_columns(\n",
    "    (\n",
    "    pl.col('resale_price')\n",
    "    .str.split_exact(by='(', n=1)\n",
    "    .struct.rename_fields(['resale_price_base','resale_price_upgrade'])\n",
    "    .alias('fields')\n",
    "    ),\n",
    ").unnest('fields').drop(['resale_price'])\n",
    "\n",
    "# 4. discard mph values from top_speed_in_game and top_speed_real because we're not savages\n",
    "df = df.with_columns(\n",
    "    (\n",
    "    pl.col('top_speed_real')\n",
    "    .str.split_exact(by='(', n=1)\n",
    "    .struct.rename_fields(['mph','top_speed_real_kmh'])\n",
    "    .alias('fields')\n",
    "    ),\n",
    ").unnest('fields').drop(['mph','top_speed_real'])\n",
    "\n",
    "df = df.with_columns(\n",
    "    (\n",
    "    pl.col('top_speed_in_game')\n",
    "    .str.split_exact(by='(', n=1)\n",
    "    .struct.rename_fields(['mph','top_speed_in_game_kmh'])\n",
    "    .alias('fields')\n",
    "    ),\n",
    ").unnest('fields').drop(['mph', 'top_speed_in_game'])\n",
    "\n",
    "# 5. Strip non-numeric characters from numeric columns resale_price_base and resale_price_upgrade\n",
    "# this is super ugly and could be done in a more elegant way by just retaining for numeric characters\n",
    "stripchars = ' $abcdefghijklmnopqrstuvwxyzABCDEFGHIJKLMNOPQRSTUVWXYZ/) \\n\\t'\n",
    "numeric_cols = ['resale_price_base', \n",
    "                'resale_price_upgrade', \n",
    "                'price', \n",
    "                'weight_in_kg', \n",
    "                'top_speed_real_kmh', \n",
    "                'top_speed_in_game_kmh',\n",
    "                'speed',\n",
    "                'acceleration',\n",
    "                'braking',\n",
    "                'handling',\n",
    "                'overall',\n",
    "                'upgrade_cost']\n",
    "                \n",
    "\n",
    "df = df.with_columns(\n",
    "    pl.col(numeric_cols).str.strip(stripchars),\n",
    ")\n",
    "df = df.with_columns(\n",
    "    pl.col(numeric_cols).str.replace_all(r',', ''),\n",
    ")\n",
    "\n",
    "# FIXME where $0 in upgrade_cost stripped to \"\", replace them with \"0\"\n",
    "df = df.with_columns(pl.col('upgrade_cost').str.replace('','0'))\n",
    "\n",
    "df = df.with_columns(\n",
    "    pl.col(numeric_cols).cast(pl.Float64),\n",
    ")\n",
    "\n",
    "#print final data frame\n",
    "print(df)"
   ]
  },
  {
   "attachments": {},
   "cell_type": "markdown",
   "id": "e2ea2d14",
   "metadata": {},
   "source": [
    "Jetzt haben wir (endlich) einen sauberen Datensatz mit den korrekten Datentypen.\n",
    "\n",
    "Zum Schluss dieses Arbeitsschritts schreiben wir diesen Datensatz in eine neue Datei, damit wir ihn später einfacher wiederverwenden können.  \n",
    "Wir verwenden hier das `parquet` Format, welches sehr performant ist und die Daten komprimiert speichert.\n",
    "CSV ist natuerlich auch eine Möglichkeit, wenn man die Daten weiterhin in einem menschenlesbaren Format haben möchte.  \n",
    "\n",
    "Bei so einem kleinen Datensatz machen wir einfach beides :)"
   ]
  },
  {
   "cell_type": "code",
   "execution_count": 1511,
   "id": "4c731e70",
   "metadata": {},
   "outputs": [],
   "source": [
    "df.write_csv(\"resources/data/gta_v/gta_v_data.csv\")\n",
    "# we can also use a non-human readable (but smaller and faster to load) format, e.g. parquet\n",
    "df.write_parquet(\"resources/data/gta_v/gta_v_data.parquet\")"
   ]
  }
 ],
 "metadata": {
  "kernelspec": {
   "display_name": "env",
   "language": "python",
   "name": "python3"
  },
  "language_info": {
   "codemirror_mode": {
    "name": "ipython",
    "version": 3
   },
   "file_extension": ".py",
   "mimetype": "text/x-python",
   "name": "python",
   "nbconvert_exporter": "python",
   "pygments_lexer": "ipython3",
   "version": "3.11.2"
  },
  "vscode": {
   "interpreter": {
    "hash": "d5977e373d8b1b1e6b85b25f0b4cc634383dc14ede775c01bd213c4259bd85a4"
   }
  }
 },
 "nbformat": 4,
 "nbformat_minor": 5
}
