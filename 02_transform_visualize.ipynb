{
 "cells": [
  {
   "attachments": {},
   "cell_type": "markdown",
   "id": "8a1c13eb-9694-4db0-af7f-741664325759",
   "metadata": {},
   "source": [
    "# Teil 2: Transformieren, Extrahieren und Visualisieren von Features\n",
    "## Mit Polars und Seaborn"
   ]
  },
  {
   "attachments": {},
   "cell_type": "markdown",
   "id": "35bfc3d3",
   "metadata": {},
   "source": [
    "Seaborn bietet uns eine einfache Möglichkeit um Grafiken übersichtlich und visuell ansprechend aufzubereiten, ohne uns in den komplexen Einstellungsmöglichkeiten von matplotlib zu verlieren, auf welcher seaborn basiert.  "
   ]
  },
  {
   "cell_type": "code",
   "execution_count": 977,
   "id": "1dcbc326",
   "metadata": {},
   "outputs": [],
   "source": [
    "\n",
    "import numpy as np\n",
    "import scipy as sp\n",
    "import polars as pl\n",
    "import seaborn as sns\n",
    "import matplotlib.pyplot as plt\n",
    "sns.set_theme()"
   ]
  },
  {
   "cell_type": "code",
   "execution_count": 978,
   "id": "deb68f63",
   "metadata": {},
   "outputs": [
    {
     "name": "stdout",
     "output_type": "stream",
     "text": [
      "shape: (3, 36)\n",
      "┌───────┬────────────┬────────────┬──────┬─────┬────────────┬────────────┬────────────┬────────────┐\n",
      "│ title ┆ vehicle_cl ┆ manufactur ┆ feat ┆ ... ┆ resale_pri ┆ resale_pri ┆ top_speed_ ┆ top_speed_ │\n",
      "│ ---   ┆ ass        ┆ er         ┆ ures ┆     ┆ ce_base    ┆ ce_upgrade ┆ real_kmh   ┆ in_game_km │\n",
      "│ str   ┆ ---        ┆ ---        ┆ ---  ┆     ┆ ---        ┆ ---        ┆ ---        ┆ h          │\n",
      "│       ┆ str        ┆ str        ┆ str  ┆     ┆ f64        ┆ f64        ┆ f64        ┆ ---        │\n",
      "│       ┆            ┆            ┆      ┆     ┆            ┆            ┆            ┆ f64        │\n",
      "╞═══════╪════════════╪════════════╪══════╪═════╪════════════╪════════════╪════════════╪════════════╡\n",
      "│ Volat ┆ Planes     ┆ NA         ┆ Armo ┆ ... ┆ 2.2344e6   ┆ 2.421475e6 ┆ 266.35     ┆ 250.0      │\n",
      "│ ol    ┆            ┆            ┆ red  ┆     ┆            ┆            ┆            ┆            │\n",
      "│       ┆            ┆            ┆ Vehi ┆     ┆            ┆            ┆            ┆            │\n",
      "│       ┆            ┆            ┆ cle, ┆     ┆            ┆            ┆            ┆            │\n",
      "│       ┆            ┆            ┆ Bomb ┆     ┆            ┆            ┆            ┆            │\n",
      "│       ┆            ┆            ┆ s    ┆     ┆            ┆            ┆            ┆            │\n",
      "│       ┆            ┆            ┆ Mod, ┆     ┆            ┆            ┆            ┆            │\n",
      "│       ┆            ┆            ┆ Bull ┆     ┆            ┆            ┆            ┆            │\n",
      "│       ┆            ┆            ┆ ...  ┆     ┆            ┆            ┆            ┆            │\n",
      "│ Sadle ┆ Utility    ┆ Vapid      ┆ Has  ┆ ... ┆ 21000.0    ┆ 109375.0   ┆ 160.93     ┆ 130.0      │\n",
      "│ r     ┆            ┆            ┆ Vari ┆     ┆            ┆            ┆            ┆            │\n",
      "│       ┆            ┆            ┆ ants ┆     ┆            ┆            ┆            ┆            │\n",
      "│       ┆            ┆            ┆ ,    ┆     ┆            ┆            ┆            ┆            │\n",
      "│       ┆            ┆            ┆ Snow ┆     ┆            ┆            ┆            ┆            │\n",
      "│       ┆            ┆            ┆ Vehi ┆     ┆            ┆            ┆            ┆            │\n",
      "│       ┆            ┆            ┆ cle  ┆     ┆            ┆            ┆            ┆            │\n",
      "│       ┆            ┆            ┆ -    ┆     ┆            ┆            ┆            ┆            │\n",
      "│       ┆            ┆            ┆ Nor. ┆     ┆            ┆            ┆            ┆            │\n",
      "│       ┆            ┆            ┆ ..   ┆     ┆            ┆            ┆            ┆            │\n",
      "│ Benef ┆ Commercial ┆ Benefactor ┆ Armo ┆ ... ┆ 0.0        ┆ 0.0        ┆ 140.41     ┆ 120.0      │\n",
      "│ actor ┆            ┆            ┆ red  ┆     ┆            ┆            ┆            ┆            │\n",
      "│ Terro ┆            ┆            ┆ Vehi ┆     ┆            ┆            ┆            ┆            │\n",
      "│ rbyte ┆            ┆            ┆ cle, ┆     ┆            ┆            ┆            ┆            │\n",
      "│       ┆            ┆            ┆ Bull ┆     ┆            ┆            ┆            ┆            │\n",
      "│       ┆            ┆            ┆ etpr ┆     ┆            ┆            ┆            ┆            │\n",
      "│       ┆            ┆            ┆ oof  ┆     ┆            ┆            ┆            ┆            │\n",
      "│       ┆            ┆            ┆ -    ┆     ┆            ┆            ┆            ┆            │\n",
      "│       ┆            ┆            ┆ F... ┆     ┆            ┆            ┆            ┆            │\n",
      "└───────┴────────────┴────────────┴──────┴─────┴────────────┴────────────┴────────────┴────────────┘\n"
     ]
    }
   ],
   "source": [
    "\n",
    "# read in the previously created parquet file\n",
    "df = pl.read_parquet(\"resources/data/gta_v/gta_v_data.parquet\")\n",
    "print(df.head(3))"
   ]
  },
  {
   "attachments": {},
   "cell_type": "markdown",
   "id": "09fdbcc7-bb50-433f-9f01-2cbaa29ec145",
   "metadata": {},
   "source": [
    "Bei Listen ist es etwas schwieriger, da die Spalten nicht einfach so aufgeteilt werden können, ohne die Gesamtanzahl stark zu erhöhen.\n",
    "Wir erstellen _eine_ neue Spalte, welche nur die Anzahl der Features enthält (diese sind getrennt durch Kommata).\n",
    "Damit können wir zwar nicht zwischen den Features unterscheiden, aber wir können zumindest statistisch Tendenzen feststellen.\n"
   ]
  },
  {
   "cell_type": "code",
   "execution_count": 979,
   "id": "9f195a3f",
   "metadata": {},
   "outputs": [
    {
     "name": "stdout",
     "output_type": "stream",
     "text": [
      "shape: (567,)\n",
      "Series: 'feature_count' [u32]\n",
      "[\n",
      "\t8\n",
      "\t3\n",
      "\t9\n",
      "\t7\n",
      "\t1\n",
      "\t3\n",
      "\t4\n",
      "\t2\n",
      "\t2\n",
      "\t1\n",
      "\t1\n",
      "\t1\n",
      "\t...\n",
      "\t2\n",
      "\t1\n",
      "\t11\n",
      "\t4\n",
      "\t12\n",
      "\t3\n",
      "\t2\n",
      "\t2\n",
      "\t1\n",
      "\t1\n",
      "\t2\n",
      "\t1\n",
      "\t1\n",
      "]\n"
     ]
    }
   ],
   "source": [
    "\n",
    "df = df.with_columns(\n",
    "        pl.col(\"features\").str.split(',').arr.lengths().alias(\"feature_count\"),\n",
    "        # alternative mit apply einer python lambda funktion (langsamer)\n",
    "        # pl.col(\"features\").str.split(',').apply(lambda x: len(x)).alias(\"feature_count\"),\n",
    ") \n",
    "print(df.get_column(\"feature_count\"))"
   ]
  },
  {
   "attachments": {},
   "cell_type": "markdown",
   "id": "09088c9d",
   "metadata": {},
   "source": []
  },
  {
   "cell_type": "markdown",
   "id": "35207a49",
   "metadata": {},
   "source": []
  }
 ],
 "metadata": {
  "kernelspec": {
   "display_name": "env",
   "language": "python",
   "name": "python3"
  },
  "language_info": {
   "codemirror_mode": {
    "name": "ipython",
    "version": 3
   },
   "file_extension": ".py",
   "mimetype": "text/x-python",
   "name": "python",
   "nbconvert_exporter": "python",
   "pygments_lexer": "ipython3",
   "version": "3.11.2"
  },
  "vscode": {
   "interpreter": {
    "hash": "d5977e373d8b1b1e6b85b25f0b4cc634383dc14ede775c01bd213c4259bd85a4"
   }
  }
 },
 "nbformat": 4,
 "nbformat_minor": 5
}
