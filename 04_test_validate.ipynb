{
 "cells": [
  {
   "cell_type": "markdown",
   "id": "7ccae79a-ac90-4211-951f-5ecbfc139584",
   "metadata": {},
   "source": [
    "# Teil 4: Testen und Validieren\n",
    "## Kreuzvalidierung mit K-Fold"
   ]
  },
  {
   "cell_type": "markdown",
   "id": "d65d85ae-a978-4d53-9e4b-af0e00822dc6",
   "metadata": {},
   "source": [
    "# Warum ist Testen nicht genug?\n",
    "- Das Problem bei der Modellierung ist die Umfaenglichkeit der Daten\n",
    "- Man kann sich nie sicher sein, dass die gesehenen Daten die \"echte\" Verteilung abbilden\n",
    "- Deswegen muss man dem Modell beim Trainieren Daten vorenthalten, um dann mit diesen Daten die Generalisierungsfaehigkeit zu Testen\n",
    "- Wiederholtes Anwenden dieses Prinzips nennt man Kreuzvalidierung"
   ]
  },
  {
   "cell_type": "markdown",
   "id": "24d877c6-6e3b-4a76-937a-716205614054",
   "metadata": {},
   "source": [
    "- Es gibt mehrere \"Grade\" der Kreuzvalidierung: ausschoepfend und nicht-ausschoepfend\n",
    "- Leave-One-Out-Cross-Validation ist ein ausschoepfendes Validierungsverfahren, jedoch sehr Zeitaufwaendig\n",
    "- KFold ist ein reduziertes Validierungsverfahren, was sich jedoch mit steigendem K an LOOCV annaehrt\n",
    "- Es gibt noch weitere Arten der Validierung, KFold ist jedoch ein gutes Werkzeug fuer die meisten Faelle"
   ]
  },
  {
   "cell_type": "code",
   "execution_count": null,
   "id": "0f2cd7a0-5ad8-47a0-96a2-c28c60a88e09",
   "metadata": {},
   "outputs": [],
   "source": []
  }
 ],
 "metadata": {
  "kernelspec": {
   "display_name": "Python 3 (ipykernel)",
   "language": "python",
   "name": "python3"
  },
  "language_info": {
   "codemirror_mode": {
    "name": "ipython",
    "version": 3
   },
   "file_extension": ".py",
   "mimetype": "text/x-python",
   "name": "python",
   "nbconvert_exporter": "python",
   "pygments_lexer": "ipython3",
   "version": "3.11.1"
  }
 },
 "nbformat": 4,
 "nbformat_minor": 5
}
