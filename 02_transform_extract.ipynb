{
 "cells": [
  {
   "attachments": {},
   "cell_type": "markdown",
   "id": "8a1c13eb-9694-4db0-af7f-741664325759",
   "metadata": {},
   "source": [
    "# Teil 2: Transformieren, Extrahieren und Visualisieren von neuen Features\n",
    "## Mit Polars und Seaborn"
   ]
  },
  {
   "cell_type": "code",
   "execution_count": 2,
   "id": "1dcbc326",
   "metadata": {},
   "outputs": [],
   "source": [
    "\n",
    "import numpy as np\n",
    "import scipy as sp\n",
    "import polars as pl\n",
    "import seaborn as sns\n",
    "sns.set_theme()\n",
    "\n",
    "# read in the previously created parquet file\n",
    "df = pl.read_parquet(\"resources/data/gta_v/gta_v_data.parquet\")"
   ]
  },
  {
   "cell_type": "code",
   "execution_count": 1,
   "id": "09fdbcc7-bb50-433f-9f01-2cbaa29ec145",
   "metadata": {},
   "outputs": [
    {
     "ename": "NameError",
     "evalue": "name 'df' is not defined",
     "output_type": "error",
     "traceback": [
      "\u001b[1;31m---------------------------------------------------------------------------\u001b[0m",
      "\u001b[1;31mNameError\u001b[0m                                 Traceback (most recent call last)",
      "Cell \u001b[1;32mIn[1], line 2\u001b[0m\n\u001b[0;32m      1\u001b[0m \u001b[39m# bei heterogenen daten pro spalte mit dem jeweiligen typen (float, int, text, etc.)\u001b[39;00m\n\u001b[1;32m----> 2\u001b[0m df\u001b[39m.\u001b[39mwith_columns([\n\u001b[0;32m      3\u001b[0m     (\n\u001b[0;32m      4\u001b[0m         pl\u001b[39m.\u001b[39mcol(\u001b[39m\"\u001b[39m\u001b[39mfeatures\u001b[39m\u001b[39m\"\u001b[39m)\u001b[39m.\u001b[39mstr()\u001b[39m.\u001b[39msplit(\u001b[39m\"\u001b[39m\u001b[39m,\u001b[39m\u001b[39m\"\u001b[39m)\u001b[39m.\u001b[39mexplode()\u001b[39m.\u001b[39mvalue_counts()\n\u001b[0;32m      5\u001b[0m     )\u001b[39m.\u001b[39malias(\u001b[39m\"\u001b[39m\u001b[39mfeature_count\u001b[39m\u001b[39m\"\u001b[39m)\n\u001b[0;32m      6\u001b[0m ]) \n",
      "\u001b[1;31mNameError\u001b[0m: name 'df' is not defined"
     ]
    }
   ],
   "source": [
    "# bei heterogenen daten pro spalte mit dem jeweiligen typen (float, int, text, etc.)\n",
    "df.with_columns([\n",
    "    (\n",
    "        pl.col(\"features\").str().split(\",\").explode().value_counts()\n",
    "    ).alias(\"feature_count\")\n",
    "]) "
   ]
  },
  {
   "attachments": {},
   "cell_type": "markdown",
   "id": "7412984c",
   "metadata": {},
   "source": [
    "Hier sehen wir schon einen Unterschied zu Pandas:  \n",
    "In Polars werden \"Queries\" aufgebaut, um den DataFrame zu manipulieren. Diese werden allerdings erst berechnet, wenn wir das Ergebnis benötigen.\n",
    "Dadurch kann Polars bestimmte Optimierungen auf den Queries ausführen, um die Berechnung zu beschleunigen.\n",
    "\n",
    "Der DataFrame bietet methoden `.select()`, `.filter()` welche als Parameter weitere Funktionen entgegennehmen, die auf den DataFrame angewendet werden.\n",
    "Die Groupby Funktion `.groupby()` ist eine weitere Möglichkeit um den DataFrame zu manipulieren (ähnlich zu Pandas)."
   ]
  },
  {
   "cell_type": "markdown",
   "id": "35207a49",
   "metadata": {},
   "source": []
  }
 ],
 "metadata": {
  "kernelspec": {
   "display_name": "env",
   "language": "python",
   "name": "python3"
  },
  "language_info": {
   "codemirror_mode": {
    "name": "ipython",
    "version": 3
   },
   "file_extension": ".py",
   "mimetype": "text/x-python",
   "name": "python",
   "nbconvert_exporter": "python",
   "pygments_lexer": "ipython3",
   "version": "3.11.2"
  },
  "vscode": {
   "interpreter": {
    "hash": "d5977e373d8b1b1e6b85b25f0b4cc634383dc14ede775c01bd213c4259bd85a4"
   }
  }
 },
 "nbformat": 4,
 "nbformat_minor": 5
}
