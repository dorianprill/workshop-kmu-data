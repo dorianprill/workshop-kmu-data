{
 "cells": [
  {
   "cell_type": "markdown",
   "id": "312784bf-e368-476f-a023-aa506757c1dc",
   "metadata": {},
   "source": [
    "# Teil 3: Daten Vorbereiten und Modellieren\n",
    "## Mit einem einfachen Nueronalen Netz"
   ]
  },
  {
   "cell_type": "code",
   "execution_count": null,
   "id": "02d28951-9f92-48d7-8482-631d1a32a18d",
   "metadata": {},
   "outputs": [],
   "source": []
  }
 ],
 "metadata": {
  "kernelspec": {
   "display_name": "Python 3 (ipykernel)",
   "language": "python",
   "name": "python3"
  },
  "language_info": {
   "codemirror_mode": {
    "name": "ipython",
    "version": 3
   },
   "file_extension": ".py",
   "mimetype": "text/x-python",
   "name": "python",
   "nbconvert_exporter": "python",
   "pygments_lexer": "ipython3",
   "version": "3.11.1"
  }
 },
 "nbformat": 4,
 "nbformat_minor": 5
}
