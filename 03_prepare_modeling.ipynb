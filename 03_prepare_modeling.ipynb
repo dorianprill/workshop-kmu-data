{
 "cells": [
  {
   "cell_type": "markdown",
   "id": "312784bf-e368-476f-a023-aa506757c1dc",
   "metadata": {},
   "source": [
    "# Teil 3: Daten Vorbereiten und Modellieren\n",
    "## Mit einem linearen Klassifizierungs-Modell zur Kategoriebestimmung"
   ]
  },
  {
   "cell_type": "markdown",
   "id": "2bb5cb93",
   "metadata": {},
   "source": [
    "Nachdem wir die Daten bereinigt und visualisiert haben, können wir mit dem Modellieren beginnen. Wir werden ein lineares Klassifizierungs-Modell aus der Bibliothek `sklearn` verwenden, um die Kategorie zu bestimmen. Wir werden dann die Daten in Trainings- und Testdaten aufteilen und das Modell auf den Trainingsdaten trainieren. Anschließend werden wir die Testdaten verwenden, um die Genauigkeit des Modells zu testen.\n",
    "\n",
    "Als sog. Features fuer unser Modell nehmen wir nur ein Teilmenge der vorhandenen Spalten. Zum einen, da nicht alle Spalten einen hohen Einfluss auf die Kategorie haben, zum anderen, um die Anzahl der Features zu reduzieren, um die Berechnung zu beschleunigen und das Modell \"robuster\" zu machen.\n",
    "\n",
    "Zuvor haben wir in unseren Pair-Plots bereits gesehen, dass nicht alle Variablen helfen, die Kategorien zu unterscheiden. Wir werden daher nur folgende Variablen als Features verwenden:\n",
    "`Head Tube Angle`, `Reach`, `Stack`, `STR`, `Wheelbase`.\n",
    "\n",
    "Weitere Spalten wie `Brand`, `Model` und `Frame Size` sind explizit ekludiert, damit das Modell nicht einfach nur eine Assoziation zwischen Modell und Gemotrie auswendig lernt und in Folge nicht auf ungesehene Daten generalisieren kann.\n",
    "\n",
    "Ferner wird die Kategorie `Other` exkludiert, da diese unzureichend wenige Beispiele hat um das Modell zu trainieren."
   ]
  },
  {
   "cell_type": "code",
   "execution_count": 1,
   "id": "02d28951-9f92-48d7-8482-631d1a32a18d",
   "metadata": {},
   "outputs": [],
   "source": [
    "import polars as pl\n",
    "import sklearn.svm as svm\n",
    "import sklearn.metrics as metrics\n",
    "import sklearn.model_selection as model_selection\n",
    "from sklearn.preprocessing import StandardScaler"
   ]
  },
  {
   "cell_type": "code",
   "execution_count": 2,
   "id": "c62f5ec7",
   "metadata": {},
   "outputs": [
    {
     "name": "stdout",
     "output_type": "stream",
     "text": [
      "('URL', Utf8) ('Brand', Utf8) ('Model', Utf8) ('Year', Utf8) ('Category', Utf8) ('Motorized', Boolean) ('Frame Size', Utf8) ('Frame Config', Utf8) ('Wheel Size', Utf8) ('Reach', Float32) ('Stack', Float32) ('STR', Float32) ('Front Center', Float32) ('Head Tube Angle', Float32) ('Seat Tube Angle Effective', Float32) ('Seat Tube Angle Real', Float32) ('Top Tube Length', Float32) ('Top Tube Length Horizontal', Float32) ('Head Tube Length', Float32) ('Seat Tube Length', Float32) ('Standover Height', Float32) ('Chainstay Length', Float32) ('Wheelbase', Float32) ('Bottom Bracket Offset', Float32) ('Bottom Bracket Height', Float32) ('Fork Installation Height', Float32) ('Fork Offset', Float32) ('Fork Trail', Float32) ('Suspension Travel (rear)', Float32) ('Suspension Travel (front)', Float32)\n"
     ]
    }
   ],
   "source": [
    "df = pl.read_ipc('resources/data/bicycle-geometry/geometrics.mtb-news.de.arrow', memory_map=False)\n",
    "# print column names and datatypes together\n",
    "print(*zip(df.columns, df.dtypes))\n",
    "# cast years to integers\n",
    "df = df.with_columns(pl.col('Year').cast(pl.Int32))\n",
    "\n",
    "# These values are not commonly stated so we drop them\n",
    "# Motorized is all False so we drop it\n",
    "df = df.drop(['Motorized', 'Top Tube Length Horizontal', 'Fork Trail'])"
   ]
  },
  {
   "cell_type": "code",
   "execution_count": 3,
   "id": "526bbd3f",
   "metadata": {},
   "outputs": [
    {
     "name": "stdout",
     "output_type": "stream",
     "text": [
      "Numer of samples: 5095\n"
     ]
    }
   ],
   "source": [
    "# this is the list of features that we want to use to predict the category\n",
    "features = [\n",
    "    'Head Tube Angle',\n",
    "    #'Chainstay Length',\n",
    "    'Reach',\n",
    "    'Stack',\n",
    "    'STR',\n",
    "    #'Seat Tube Angle Effective', # this costs us about a fifth of our current data points!\n",
    "    'Wheelbase',\n",
    "    #'Bottom Bracket Offset',\n",
    "]\n",
    "# this is the target column that we want to predict\n",
    "target = 'Category'\n",
    "\n",
    "# because our plotting dataframe was filtered for null values of columns we dont use for modeling\n",
    "# we need to filter the original dataframe with the conditions only for the used columns \n",
    "df = df.select(\n",
    "    features + [target]\n",
    ").filter(\n",
    "    ~pl.all(pl.col('Category') == 'Other') &\n",
    "    (pl.col('Wheelbase') < 3000) &\n",
    "    (pl.col('Wheelbase') > 500) &\n",
    "    (pl.col('STR') > 1.0) & \n",
    "    (pl.col('Reach') > 300) &\n",
    "    (pl.col('Stack') > 470) &\n",
    "    (pl.col('Head Tube Angle') > 61.0) \n",
    "    #(pl.col('Seat Tube Angle Effective') > 70)\n",
    ").drop_nulls()\n",
    "\n",
    "# print the shape of data we are left with:\n",
    "print(f'Numer of samples: {df.select(features + [target]).shape[0]}')"
   ]
  },
  {
   "cell_type": "markdown",
   "id": "f80c3932",
   "metadata": {},
   "source": [
    "Wir werden eines der einfachsten Machine-Learning Modelle verwenden, eine lineare Support-Vector-Machine.\n",
    "\n",
    "> Hint: Tafelbeispiel!\n",
    "\n",
    "Die Modell hat viele gute Default-Werte, wir ueberschreiben hier nur einige davon:"
   ]
  },
  {
   "cell_type": "code",
   "execution_count": 4,
   "id": "69e0ef1d",
   "metadata": {},
   "outputs": [],
   "source": [
    "model = svm.LinearSVC(\n",
    "    C=10,               # error penalty: vary this parameter to change how \"tightly\" the model fits the data e.g 0.1, 1, 10, 100\n",
    "    max_iter=100000,     # safeguard against too long training times in case of no convergence\n",
    "    random_state=42,    # set a random seed to make the results reproducible\n",
    ")"
   ]
  },
  {
   "cell_type": "markdown",
   "id": "7320a780",
   "metadata": {},
   "source": [
    "Bis jetzt ist das Modell nur instanziiert aber noch nicht trainiert. Das machen wir im nächsten Schritt.\n",
    "\n",
    "Um das Modell zu trainieren, muessen wir die Daten in ein sog. Trainings- und Testset aufteilen (zumindest, mehr dazu spaeter).\n",
    "Das Trainingsset ist eine zufaellige Auswahl von Samples, die verwendet werden, um das Modell an die Daten anzupassen. Das Testset wird verwendet, um die Vorhersageleistung des Modells auf unbekannte Daten zu bewerten.\n",
    "Das Testen ist wichtig, um zu ueberpruefen, ob das Modell gut auf neue Daten generalisiert, und nicht nur die Trainingsdaten memorisiert. Das Testset ist in der Regel kleiner als das Trainingsset, da wir so viele Daten wie moeglich fuer das Training verwenden moechten. Das Testset muss aber ebenso vielfaeltig genug sein, um die Vorhersageleistung des Modells zu bemessen.\n",
    "\n",
    "> **Merke:** Technisch gesehen wuerden wir noch ein drittes sog. \"Validierungs\"-Set benoetigen mit dem eine Menge von verschiedenen Modellparametern ausprobiert wird, um die beste Leistung zu finden. Das waere aber zu viel fuer diese einfache Demo (wir bleiben bei fixem C).\n",
    "\n",
    "Da scikit keine Arrow-Unterstuetzung hat, werden wir unseren finalen Dataframe in `numpy` Arrays konvertieren.\n",
    "\n",
    "`sklearn` hat bereits eine bequeme Funktion, um die Daten in Trainings- und Testset aufzuteilen."
   ]
  },
  {
   "cell_type": "code",
   "execution_count": 5,
   "id": "233b6593",
   "metadata": {},
   "outputs": [],
   "source": [
    "X_train, X_test, y_train, y_test = model_selection.train_test_split(\n",
    "    df.select(features).to_numpy(),\n",
    "    df.get_column(target).to_numpy(), \n",
    "    test_size=0.33, \n",
    "    random_state=42\n",
    ")"
   ]
  },
  {
   "cell_type": "markdown",
   "id": "695ecb5c",
   "metadata": {},
   "source": [
    "Besonders wichtig ist, die Daten auf den selben Wertebereich zu skalieren, damit die Features mathematisch gleich gewichtet werden. Wir benutzen hierfuer den `StandardScaler`, der die Daten auf eine Mittelwert von 0 und eine Standardabweichung von 1 skaliert."
   ]
  },
  {
   "cell_type": "code",
   "execution_count": 6,
   "id": "10978ef4",
   "metadata": {},
   "outputs": [
    {
     "name": "stdout",
     "output_type": "stream",
     "text": [
      "              precision    recall  f1-score   support\n",
      "\n",
      "   Gravel/CX       0.94      0.74      0.83       205\n",
      "    Mountain       0.99      1.00      0.99      1326\n",
      "        Road       0.81      0.95      0.88       151\n",
      "\n",
      "    accuracy                           0.96      1682\n",
      "   macro avg       0.91      0.90      0.90      1682\n",
      "weighted avg       0.96      0.96      0.96      1682\n",
      "\n",
      "[[0.74146341 0.09756098 0.16097561]\n",
      " [0.0015083  0.9984917  0.        ]\n",
      " [0.04635762 0.         0.95364238]]\n"
     ]
    },
    {
     "data": {
      "text/plain": [
       "<sklearn.metrics._plot.confusion_matrix.ConfusionMatrixDisplay at 0x7f1de502cb10>"
      ]
     },
     "execution_count": 6,
     "metadata": {},
     "output_type": "execute_result"
    },
    {
     "data": {
      "image/png": "[encoded data removed]",
      "text/plain": [
       "<Figure size 640x480 with 2 Axes>"
      ]
     },
     "metadata": {},
     "output_type": "display_data"
    }
   ],
   "source": [
    "scaler = StandardScaler()\n",
    "X_train = scaler.fit_transform(X_train)\n",
    "# CRUCIAL: test data needs to be transformed with the scalings from training data\n",
    "X_test = scaler.transform(X_test)\n",
    "\n",
    "model.fit(X_train, y_train)\n",
    "\n",
    "y_pred = model.predict(X_test)\n",
    "\n",
    "print(metrics.classification_report(y_test, y_pred))\n",
    "\n",
    "print(metrics.confusion_matrix(y_test, y_pred, normalize='true'))\n",
    "\n",
    "metrics.ConfusionMatrixDisplay(metrics.confusion_matrix(y_test, y_pred, normalize='true'), display_labels=model.classes_).plot()"
   ]
  },
  {
   "cell_type": "code",
   "execution_count": 16,
   "id": "82c856d3-374f-47ea-b816-79960c11aa2b",
   "metadata": {
    "tags": []
   },
   "outputs": [
    {
     "data": {
      "text/plain": [
       "array([[ 0.57990823,  0.65377628, -0.72713746,  0.91417964,  0.62195551],\n",
       "       [-1.23200152,  0.76659287, -0.28739474,  0.20038875,  0.7031947 ],\n",
       "       [ 1.49509769, -1.24422173,  0.81903796, -0.75578606, -2.956269  ]])"
      ]
     },
     "execution_count": 16,
     "metadata": {},
     "output_type": "execute_result"
    }
   ],
   "source": [
    "import matplotlib.pyplot as plt\n",
    "import numpy as np\n",
    "\n",
    "model.coef_\n"
   ]
  },
  {
   "cell_type": "markdown",
   "id": "e45103c7",
   "metadata": {},
   "source": [
    "## Abschlussbemerkungen\n",
    "\n",
    "- Wir haetten mehr Samples inkludieren koennen, wenn wir nicht so agressiv gefiltert haetten. Wir haben jedoch unser Domaenenwissen genutzt, um Ausreisser und unrepresentative Samples zu entfernen. Dieses Domaenenwissen ist in der Praxis sehr wichtig, um die Daten zu verstehen und zu bereinigen.\n",
    "- Merke, dass `StandardScaler` nicht der einzige Weg ist, Daten zu skalieren. Es gibt andere Methoden, die fuer Ihre Daten geeigneter sein koennten. Es funktioniert jedoch in vielen Faellen sehr gut.\n",
    "- Wir haben Outliers manuell entfernt, aber es gibt auch automatische Methoden, um eine Menge von potentiellen Outliers zu produzieren, welche die manuelle Arbeit erheblich reduzieren (z.B. `sklearn.ensemble.IsolationForest`)\n",
    "- Modellvalidierung ist ein komplexes Thema, das weit ueber den Rahmen dieses Tutorials hinausgeht. Zuersteinmal ist die Wahl der richtigen Performance-Metrik essentiell.  Darueber hinaus muss die Validierung immer ueber eine Menge von verschiedenen Skalierungs-Methoden und Parametern durchgefuehrt werden, um die beste Permutation zu finden.\n",
    "- Wir haben die Feature-Selection manuell durchgefuehrt, aber sie kann auch Teil des Validierungsprozesses sein (weiteres Lesen: Filter vs. Wrapper Ansatz)."
   ]
  }
 ],
 "metadata": {
  "kernelspec": {
   "display_name": "Python 3 (ipykernel)",
   "language": "python",
   "name": "python3"
  },
  "language_info": {
   "codemirror_mode": {
    "name": "ipython",
    "version": 3
   },
   "file_extension": ".py",
   "mimetype": "text/x-python",
   "name": "python",
   "nbconvert_exporter": "python",
   "pygments_lexer": "ipython3",
   "version": "3.11.5"
  },
  "vscode": {
   "interpreter": {
    "hash": "75c6729cbc2a13801c0f9114f9f87a3bf06aaed289f1b1dfd3693c9c553e0078"
   }
  }
 },
 "nbformat": 4,
 "nbformat_minor": 5
}
