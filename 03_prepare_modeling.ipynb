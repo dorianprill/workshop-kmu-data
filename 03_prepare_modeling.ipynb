{
 "cells": [
  {
   "cell_type": "markdown",
   "id": "312784bf-e368-476f-a023-aa506757c1dc",
   "metadata": {},
   "source": [
    "# Teil 3: Daten Vorbereiten und Modellieren\n",
    "## Mit einem einfachen Nueronalen Netz"
   ]
  },
  {
   "cell_type": "code",
   "execution_count": null,
   "id": "02d28951-9f92-48d7-8482-631d1a32a18d",
   "metadata": {},
   "outputs": [],
   "source": []
  }
 ],
 "metadata": {
  "kernelspec": {
   "display_name": "env",
   "language": "python",
   "name": "python3"
  },
  "language_info": {
   "codemirror_mode": {
    "name": "ipython",
    "version": 3
   },
   "file_extension": ".py",
   "mimetype": "text/x-python",
   "name": "python",
   "nbconvert_exporter": "python",
   "pygments_lexer": "ipython3",
   "version": "3.11.2"
  },
  "vscode": {
   "interpreter": {
    "hash": "d5977e373d8b1b1e6b85b25f0b4cc634383dc14ede775c01bd213c4259bd85a4"
   }
  }
 },
 "nbformat": 4,
 "nbformat_minor": 5
}
