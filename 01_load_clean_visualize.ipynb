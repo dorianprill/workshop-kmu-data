{
 "cells": [
  {
   "cell_type": "markdown",
   "id": "b9b255d3-9c33-45fa-9abb-ba4c940287be",
   "metadata": {},
   "source": [
    "# Teil 1: Daten laden, Bereinigen und Visualisieren\n",
    "## Mit Polars und Seaborn"
   ]
  },
  {
   "attachments": {},
   "cell_type": "markdown",
   "id": "3119a790",
   "metadata": {},
   "source": [
    "In diesem Notebook werden die Daten geladen, bereinigt und visualisiert. Dabei werden die Polars und Seaborn Bibliotheken verwendet.\n",
    "\n",
    "Polars bietet uns Datentypen um mit tabellarischen Daten zu arbeiten (DataFrame und Series). Außerdem werden eine Menge von Methoden bereitgestellt um Daten zu bereinigen und zu transformieren. Polars ist eine sehr performante Bibliothek, die auf Apache Arrow basiert und somit sehr gut mit dem Apache Big Data Ökosystem kompatibel ist.  \n",
    "Sie ist dazu sehr performant und kann, im Gegenzug zur Pandas Bibliothek, sehr große Datenmengen verarbeiten (Out-of-Memory Query Engine).\n",
    "\n",
    "Seaborn bietet uns eine einfache Möglichkeit um Grafiken übersichtlich und visuell ansprechend aufzubereiten, ohne uns in den komplexen Einstellungsmöglichkeiten von matplotlib zu verlieren, auf welcher seaborn basiert.  \n",
    "\n",
    "Numpy und Scipy sind Mathematik bzw. Wissenschaftliche quasi-Standard Bibliotheken und bieten uns eine Vielfalt an bekannten Funktionen und Methoden.\n",
    "\n",
    "\n",
    "Damit haben wir bereits alles, was wir benötigen, um eine erste Analyse der Daten durchzuführen und mit diesen Ergebnissen später ein Modell zu entwickeln, um eine Vorhersage zu treffen."
   ]
  },
  {
   "cell_type": "code",
   "execution_count": 20,
   "id": "6df90f8c-f216-412f-be7c-9d7a505e4bcb",
   "metadata": {
    "tags": []
   },
   "outputs": [],
   "source": [
    "import random\n",
    "import numpy as np\n",
    "import scipy as sp\n",
    "import polars as pl\n",
    "import seaborn as sns\n",
    "sns.set_theme()"
   ]
  },
  {
   "attachments": {},
   "cell_type": "markdown",
   "id": "372f4dd2",
   "metadata": {},
   "source": [
    "Zur Veranschaulichung des Analytics/Modeling Prozesses verwenden wir einen kleinen Datensatz der einfach verständlich ist. In der Praxis hat man es oft mit komplexeren Daten zu tun, die eine Menge an Vorverarbeitung und Reduktion benötigen, um sie für das Modellieren zu nutzen.  \n",
    "Öffentlich verfügbare, reale Datensätze sind leider oft anonymisiert und daher nicht leicht verständlich."
   ]
  },
  {
   "attachments": {},
   "cell_type": "markdown",
   "id": "5d6ee739",
   "metadata": {},
   "source": [
    "Daten können in unterschiedlichen Formaten vorliegen. Da jedes Unternehmen eine eigene Dateninfrastruktur besitzt, verwenden wir für diesesn Workshop Dateien als universelle und menschenlesbare Datenquelle.  \n",
    "\n",
    "Polars macht es einfach, direkt aus solchen Dateiformaten in einen DataFrame einzulesen: "
   ]
  },
  {
   "cell_type": "code",
   "execution_count": 6,
   "id": "2121052f-9831-4036-b334-b02918c91f88",
   "metadata": {},
   "outputs": [
    {
     "name": "stdout",
     "output_type": "stream",
     "text": [
      "<class 'polars.internals.dataframe.frame.DataFrame'>\n",
      "shape: (1030, 9)\n",
      "┌────────┬───────┬───────┬───────┬─────┬───────────┬─────────┬─────┬──────────┐\n",
      "│ cement ┆ slag  ┆ ash   ┆ water ┆ ... ┆ coarseagg ┆ fineagg ┆ age ┆ strength │\n",
      "│ ---    ┆ ---   ┆ ---   ┆ ---   ┆     ┆ ---       ┆ ---     ┆ --- ┆ ---      │\n",
      "│ f64    ┆ f64   ┆ f64   ┆ f64   ┆     ┆ f64       ┆ f64     ┆ i64 ┆ f64      │\n",
      "╞════════╪═══════╪═══════╪═══════╪═════╪═══════════╪═════════╪═════╪══════════╡\n",
      "│ 141.3  ┆ 212.0 ┆ 0.0   ┆ 203.5 ┆ ... ┆ 971.8     ┆ 748.5   ┆ 28  ┆ 29.89    │\n",
      "│ 168.9  ┆ 42.2  ┆ 124.3 ┆ 158.3 ┆ ... ┆ 1080.8    ┆ 796.2   ┆ 14  ┆ 23.51    │\n",
      "│ 250.0  ┆ 0.0   ┆ 95.7  ┆ 187.4 ┆ ... ┆ 956.9     ┆ 861.2   ┆ 28  ┆ 29.22    │\n",
      "│ 266.0  ┆ 114.0 ┆ 0.0   ┆ 228.0 ┆ ... ┆ 932.0     ┆ 670.0   ┆ 28  ┆ 45.85    │\n",
      "│ ...    ┆ ...   ┆ ...   ┆ ...   ┆ ... ┆ ...       ┆ ...     ┆ ... ┆ ...      │\n",
      "│ 531.3  ┆ 0.0   ┆ 0.0   ┆ 141.8 ┆ ... ┆ 852.1     ┆ 893.7   ┆ 3   ┆ 41.3     │\n",
      "│ 276.4  ┆ 116.0 ┆ 90.3  ┆ 179.6 ┆ ... ┆ 870.1     ┆ 768.3   ┆ 28  ┆ 44.28    │\n",
      "│ 342.0  ┆ 38.0  ┆ 0.0   ┆ 228.0 ┆ ... ┆ 932.0     ┆ 670.0   ┆ 270 ┆ 55.06    │\n",
      "│ 540.0  ┆ 0.0   ┆ 0.0   ┆ 173.0 ┆ ... ┆ 1125.0    ┆ 613.0   ┆ 7   ┆ 52.61    │\n",
      "└────────┴───────┴───────┴───────┴─────┴───────────┴─────────┴─────┴──────────┘\n"
     ]
    }
   ],
   "source": [
    "# polars doku unter https://pola-rs.github.io/polars-book/user-guide/index.html\n",
    "\n",
    "# datensatz: https://www.kaggle.com/datasets/vinayakshanawad/cement-manufacturing-concrete-dataset\n",
    "df = pl.read_csv(\"00_resources/data/concrete.csv\")\n",
    "print(type(df))\n",
    "print(df)\n",
    "# print(\n",
    "#     pl.lazy()\n",
    "#     .filter(pl.col(\"sepal_length\") > 2)\n",
    "#     .groupby(\"species\", maintain_order=True)\n",
    "#     .agg(pl.all().mean())\n",
    "#     .collect()\n",
    "# )\n"
   ]
  },
  {
   "attachments": {},
   "cell_type": "markdown",
   "id": "f2faf1e9",
   "metadata": {},
   "source": [
    "Ein `print()` des DataFrame liefert einen gekürzten Auszug der Header und des Inhalts und die Dimensionen der Tabelle (shape: Zeilen, Spalten).  \n",
    "Da wir die harte Arbeit aber dem Computer überlassen wollen, sollte dies nur als Gedankenstütze dienen.  \n",
    "Weitere Methoden sind `.head(n)` und `.tail(n)` um die ersten bzw. letzten n Zeilen des DataFrame anzuzeigen.  \n",
    "\n",
    "Mit der Methode `.describe()` kann eine statistische Übersicht über die Daten gegeben werden."
   ]
  },
  {
   "cell_type": "code",
   "execution_count": 7,
   "id": "3fcd0c4f",
   "metadata": {},
   "outputs": [
    {
     "name": "stdout",
     "output_type": "stream",
     "text": [
      "shape: (7, 10)\n",
      "┌───────────┬───────────┬───────────┬───────────┬─────┬─────────┬───────────┬───────────┬──────────┐\n",
      "│ describe  ┆ cement    ┆ slag      ┆ ash       ┆ ... ┆ coarsea ┆ fineagg   ┆ age       ┆ strength │\n",
      "│ ---       ┆ ---       ┆ ---       ┆ ---       ┆     ┆ gg      ┆ ---       ┆ ---       ┆ ---      │\n",
      "│ str       ┆ f64       ┆ f64       ┆ f64       ┆     ┆ ---     ┆ f64       ┆ f64       ┆ f64      │\n",
      "│           ┆           ┆           ┆           ┆     ┆ f64     ┆           ┆           ┆          │\n",
      "╞═══════════╪═══════════╪═══════════╪═══════════╪═════╪═════════╪═══════════╪═══════════╪══════════╡\n",
      "│ count     ┆ 1030.0    ┆ 1030.0    ┆ 1030.0    ┆ ... ┆ 1030.0  ┆ 1030.0    ┆ 1030.0    ┆ 1030.0   │\n",
      "│ null_coun ┆ 0.0       ┆ 0.0       ┆ 0.0       ┆ ... ┆ 0.0     ┆ 0.0       ┆ 0.0       ┆ 0.0      │\n",
      "│ t         ┆           ┆           ┆           ┆     ┆         ┆           ┆           ┆          │\n",
      "│ mean      ┆ 281.16786 ┆ 73.895825 ┆ 54.18835  ┆ ... ┆ 972.918 ┆ 773.58048 ┆ 45.662136 ┆ 35.81796 │\n",
      "│           ┆ 4         ┆           ┆           ┆     ┆ 932     ┆ 5         ┆           ┆ 1        │\n",
      "│ std       ┆ 104.50636 ┆ 86.279342 ┆ 63.997004 ┆ ... ┆ 77.7539 ┆ 80.17598  ┆ 63.169912 ┆ 16.70574 │\n",
      "│           ┆ 4         ┆           ┆           ┆     ┆ 54      ┆           ┆           ┆ 2        │\n",
      "│ min       ┆ 102.0     ┆ 0.0       ┆ 0.0       ┆ ... ┆ 801.0   ┆ 594.0     ┆ 1.0       ┆ 2.33     │\n",
      "│ max       ┆ 540.0     ┆ 359.4     ┆ 200.1     ┆ ... ┆ 1145.0  ┆ 992.6     ┆ 365.0     ┆ 82.6     │\n",
      "│ median    ┆ 272.9     ┆ 22.0      ┆ 0.0       ┆ ... ┆ 968.0   ┆ 779.5     ┆ 28.0      ┆ 34.445   │\n",
      "└───────────┴───────────┴───────────┴───────────┴─────┴─────────┴───────────┴───────────┴──────────┘\n"
     ]
    }
   ],
   "source": [
    "print(df.describe())"
   ]
  },
  {
   "attachments": {},
   "cell_type": "markdown",
   "id": "b0f4c204",
   "metadata": {},
   "source": [
    "Dies ist eine gute Möglichkeit um einen ersten Eindruck über die Daten zu bekommen.\n",
    "Zum Beispiel kann das Verhältnis von `mean` zu `std` eine erste Einschätzung über die Präsenz von Außenseitern geben.\n",
    "Auch ist es wichtig, um die Skalen der Daten zu verstehen - dies wird beim Modellieren wichtig.\n",
    "\n",
    "Ein weiterer wichtiger Aspekt ist, ob invalide Datenpunkte vorhanden sind. Das können z.b. fehlende Werte sein (Sensorausfall), aber auch ungültige Werte, die nicht in den erwarteten Bereich fallen (Nicht abgefangene Eingaben). \n",
    "Typischerweise werden diese in Polars als `null` dargestellt (Pandas: `NA`) und machen den gesamten Datenpunkt unbrauchbar. Numerisch nicht verwendbare Werte wie `+/-inf` oder `nan` sind ebenfalls ein Problem (allerdings sind dies keine _fehlenden_ Werte).\n",
    "\n",
    "Oft wird man diese Werte einfach aus dem Datensatz entfernen, um das Ergebnis nicht zuverfälschen.\n",
    "Allerdings kann dies zu einem Verlust von Informationen führen, wenn die Anzahl der ungültigen Werte zu groß ist.\n",
    "Daher _kann_ es sinnvoll sein, diese Werte mit speziellen Werten zu ersetzen.\n",
    "Eine weitere Möglichkeit ist \"Clipping\" - also das Setzen von Grenzwerten, die außerhalb des erwarteten Bereichs liegen.\n",
    "\n",
    "\n",
    "In der Praxis ist dies nahezu immer erforderlich, da \"echte\" Daten häufig \"verunreinigt\" sind.\n",
    "\n",
    "Mit folgender Zeile können wir die Anzahl der `null` Werte pro Spalte ausgeben lassen (`.describe()` kann in der Übersicht einige Spalten auslassen):"
   ]
  },
  {
   "cell_type": "code",
   "execution_count": 16,
   "id": "da3843b0",
   "metadata": {},
   "outputs": [
    {
     "name": "stdout",
     "output_type": "stream",
     "text": [
      "cement                   0\n",
      "slag                     0\n",
      "ash                      0\n",
      "water                    0\n",
      "superplastic             0\n",
      "coarseagg                0\n",
      "fineagg                  0\n",
      "age                      0\n",
      "strength                 0\n"
     ]
    }
   ],
   "source": [
    "for col in df.get_columns():\n",
    "    print(f'{col.name : <24} {col.is_null().sum()}')"
   ]
  },
  {
   "attachments": {},
   "cell_type": "markdown",
   "id": "16f4b5e0",
   "metadata": {},
   "source": [
    "In diesem Beispiel haben wir Glück - diese Daten sind bereits bereinigt und wir könnten direkt mit der Visualisierung beginnen.  \n",
    "Sonst gibt es einen einfachen Weg, alle Zeilen (Datenpunkte) mit mindestens einem `null`-Wert zu entfernen:"
   ]
  },
  {
   "cell_type": "code",
   "execution_count": 28,
   "id": "dddca2e8",
   "metadata": {},
   "outputs": [],
   "source": [
    "df.drop_nulls(); # dieses semikolon unterdrückt den grafischen output, wir wissen ja dass sich nichts ändert\n",
    "#oder \n",
    "df.fill_null(0); # ersetzt alle nullwerte mit 0\n",
    "# bei heterogenen daten jedoch pro spalte mit dem jeweiligen typen (float, int, text, etc.)\n",
    "df.select(\n",
    "    pl.col(\"cement\").fill_null(0)\n",
    ");"
   ]
  },
  {
   "cell_type": "code",
   "execution_count": null,
   "id": "f72e93e9",
   "metadata": {},
   "outputs": [],
   "source": []
  }
 ],
 "metadata": {
  "kernelspec": {
   "display_name": "env",
   "language": "python",
   "name": "python3"
  },
  "language_info": {
   "codemirror_mode": {
    "name": "ipython",
    "version": 3
   },
   "file_extension": ".py",
   "mimetype": "text/x-python",
   "name": "python",
   "nbconvert_exporter": "python",
   "pygments_lexer": "ipython3",
   "version": "3.11.2"
  },
  "vscode": {
   "interpreter": {
    "hash": "d5977e373d8b1b1e6b85b25f0b4cc634383dc14ede775c01bd213c4259bd85a4"
   }
  }
 },
 "nbformat": 4,
 "nbformat_minor": 5
}
