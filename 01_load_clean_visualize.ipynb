{
 "cells": [
  {
   "cell_type": "markdown",
   "id": "b9b255d3-9c33-45fa-9abb-ba4c940287be",
   "metadata": {},
   "source": [
    "# Teil 1: Daten laden, Bereinigen und Visualisieren\n",
    "## Mit Polars und Seaborn"
   ]
  },
  {
   "cell_type": "code",
   "execution_count": 1,
   "id": "6df90f8c-f216-412f-be7c-9d7a505e4bcb",
   "metadata": {
    "tags": []
   },
   "outputs": [],
   "source": [
    "import numpy as np\n",
    "import polars as pl\n",
    "import seaborn as sns\n",
    "sns.set_theme()"
   ]
  },
  {
   "cell_type": "code",
   "execution_count": 13,
   "id": "2121052f-9831-4036-b334-b02918c91f88",
   "metadata": {},
   "outputs": [
    {
     "name": "stdout",
     "output_type": "stream",
     "text": [
      "shape: (1030, 9)\n",
      "┌────────┬───────┬───────┬───────┬─────┬───────────┬─────────┬─────┬──────────┐\n",
      "│ cement ┆ slag  ┆ ash   ┆ water ┆ ... ┆ coarseagg ┆ fineagg ┆ age ┆ strength │\n",
      "│ ---    ┆ ---   ┆ ---   ┆ ---   ┆     ┆ ---       ┆ ---     ┆ --- ┆ ---      │\n",
      "│ f64    ┆ f64   ┆ f64   ┆ f64   ┆     ┆ f64       ┆ f64     ┆ i64 ┆ f64      │\n",
      "╞════════╪═══════╪═══════╪═══════╪═════╪═══════════╪═════════╪═════╪══════════╡\n",
      "│ 141.3  ┆ 212.0 ┆ 0.0   ┆ 203.5 ┆ ... ┆ 971.8     ┆ 748.5   ┆ 28  ┆ 29.89    │\n",
      "│ 168.9  ┆ 42.2  ┆ 124.3 ┆ 158.3 ┆ ... ┆ 1080.8    ┆ 796.2   ┆ 14  ┆ 23.51    │\n",
      "│ 250.0  ┆ 0.0   ┆ 95.7  ┆ 187.4 ┆ ... ┆ 956.9     ┆ 861.2   ┆ 28  ┆ 29.22    │\n",
      "│ 266.0  ┆ 114.0 ┆ 0.0   ┆ 228.0 ┆ ... ┆ 932.0     ┆ 670.0   ┆ 28  ┆ 45.85    │\n",
      "│ ...    ┆ ...   ┆ ...   ┆ ...   ┆ ... ┆ ...       ┆ ...     ┆ ... ┆ ...      │\n",
      "│ 531.3  ┆ 0.0   ┆ 0.0   ┆ 141.8 ┆ ... ┆ 852.1     ┆ 893.7   ┆ 3   ┆ 41.3     │\n",
      "│ 276.4  ┆ 116.0 ┆ 90.3  ┆ 179.6 ┆ ... ┆ 870.1     ┆ 768.3   ┆ 28  ┆ 44.28    │\n",
      "│ 342.0  ┆ 38.0  ┆ 0.0   ┆ 228.0 ┆ ... ┆ 932.0     ┆ 670.0   ┆ 270 ┆ 55.06    │\n",
      "│ 540.0  ┆ 0.0   ┆ 0.0   ┆ 173.0 ┆ ... ┆ 1125.0    ┆ 613.0   ┆ 7   ┆ 52.61    │\n",
      "└────────┴───────┴───────┴───────┴─────┴───────────┴─────────┴─────┴──────────┘\n"
     ]
    }
   ],
   "source": [
    "# polars doku unter https://pola-rs.github.io/polars-book/user-guide/index.html\n",
    "\n",
    "# datensatz: https://www.kaggle.com/datasets/vinayakshanawad/cement-manufacturing-concrete-dataset\n",
    "df = pl.read_csv(\"00_resources/data/concrete.csv\")\n",
    "\n",
    "print(df)\n",
    "# print(\n",
    "#     pl.lazy()\n",
    "#     .filter(pl.col(\"sepal_length\") > 2)\n",
    "#     .groupby(\"species\", maintain_order=True)\n",
    "#     .agg(pl.all().mean())\n",
    "#     .collect()\n",
    "# )\n"
   ]
  },
  {
   "cell_type": "code",
   "execution_count": 14,
   "id": "f2faf1e9",
   "metadata": {},
   "outputs": [
    {
     "name": "stdout",
     "output_type": "stream",
     "text": [
      "shape: (7, 10)\n",
      "┌───────────┬───────────┬───────────┬───────────┬─────┬─────────┬───────────┬───────────┬──────────┐\n",
      "│ describe  ┆ cement    ┆ slag      ┆ ash       ┆ ... ┆ coarsea ┆ fineagg   ┆ age       ┆ strength │\n",
      "│ ---       ┆ ---       ┆ ---       ┆ ---       ┆     ┆ gg      ┆ ---       ┆ ---       ┆ ---      │\n",
      "│ str       ┆ f64       ┆ f64       ┆ f64       ┆     ┆ ---     ┆ f64       ┆ f64       ┆ f64      │\n",
      "│           ┆           ┆           ┆           ┆     ┆ f64     ┆           ┆           ┆          │\n",
      "╞═══════════╪═══════════╪═══════════╪═══════════╪═════╪═════════╪═══════════╪═══════════╪══════════╡\n",
      "│ count     ┆ 1030.0    ┆ 1030.0    ┆ 1030.0    ┆ ... ┆ 1030.0  ┆ 1030.0    ┆ 1030.0    ┆ 1030.0   │\n",
      "│ null_coun ┆ 0.0       ┆ 0.0       ┆ 0.0       ┆ ... ┆ 0.0     ┆ 0.0       ┆ 0.0       ┆ 0.0      │\n",
      "│ t         ┆           ┆           ┆           ┆     ┆         ┆           ┆           ┆          │\n",
      "│ mean      ┆ 281.16786 ┆ 73.895825 ┆ 54.18835  ┆ ... ┆ 972.918 ┆ 773.58048 ┆ 45.662136 ┆ 35.81796 │\n",
      "│           ┆ 4         ┆           ┆           ┆     ┆ 932     ┆ 5         ┆           ┆ 1        │\n",
      "│ std       ┆ 104.50636 ┆ 86.279342 ┆ 63.997004 ┆ ... ┆ 77.7539 ┆ 80.17598  ┆ 63.169912 ┆ 16.70574 │\n",
      "│           ┆ 4         ┆           ┆           ┆     ┆ 54      ┆           ┆           ┆ 2        │\n",
      "│ min       ┆ 102.0     ┆ 0.0       ┆ 0.0       ┆ ... ┆ 801.0   ┆ 594.0     ┆ 1.0       ┆ 2.33     │\n",
      "│ max       ┆ 540.0     ┆ 359.4     ┆ 200.1     ┆ ... ┆ 1145.0  ┆ 992.6     ┆ 365.0     ┆ 82.6     │\n",
      "│ median    ┆ 272.9     ┆ 22.0      ┆ 0.0       ┆ ... ┆ 968.0   ┆ 779.5     ┆ 28.0      ┆ 34.445   │\n",
      "└───────────┴───────────┴───────────┴───────────┴─────┴─────────┴───────────┴───────────┴──────────┘\n"
     ]
    }
   ],
   "source": [
    "print(df.describe())"
   ]
  },
  {
   "cell_type": "code",
   "execution_count": null,
   "id": "b0f4c204",
   "metadata": {},
   "outputs": [],
   "source": []
  }
 ],
 "metadata": {
  "kernelspec": {
   "display_name": "Python 3.11.1 ('env': venv)",
   "language": "python",
   "name": "python3"
  },
  "language_info": {
   "codemirror_mode": {
    "name": "ipython",
    "version": 3
   },
   "file_extension": ".py",
   "mimetype": "text/x-python",
   "name": "python",
   "nbconvert_exporter": "python",
   "pygments_lexer": "ipython3",
   "version": "3.11.1"
  },
  "vscode": {
   "interpreter": {
    "hash": "23a2c6ca100e8a9ddfdc36801273d602a1ba5beb79874e78e86dd1222ad17ce6"
   }
  }
 },
 "nbformat": 4,
 "nbformat_minor": 5
}
